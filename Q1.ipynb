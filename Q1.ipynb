{
 "cells": [
  {
   "cell_type": "code",
   "execution_count": null,
   "id": "c6ed727f",
   "metadata": {},
   "outputs": [],
   "source": [
    "import pandas as pd\n",
    "import networkx as nx\n",
    "import matplotlib.pyplot as plt\n",
    "from itertools import combinations\n",
    "import numpy as np"
   ]
  },
  {
   "cell_type": "code",
   "execution_count": null,
   "id": "e13cc5cf",
   "metadata": {},
   "outputs": [],
   "source": [
    "# Load data\n",
    "scientists_df = pd.read_csv('./output/scientists_cleaned.csv')\n",
    "papers_df = pd.read_csv('./output/papers_cleaned.csv')"
   ]
  },
  {
   "cell_type": "code",
   "execution_count": null,
   "id": "b02fa353",
   "metadata": {
    "lines_to_next_cell": 1
   },
   "outputs": [],
   "source": [
    "# Normalize names\n",
    "input_names = set(scientists_df['name'].str.lower().str.strip())"
   ]
  },
  {
   "cell_type": "code",
   "execution_count": null,
   "id": "91469b51",
   "metadata": {
    "lines_to_next_cell": 1
   },
   "outputs": [],
   "source": [
    "# Filter valid authors in papers\n",
    "def filter_authors(authors):\n",
    "    try:\n",
    "        authors = [a.lower().strip() for a in authors.split(',')]  # Handle comma-separated string\n",
    "        return [a for a in authors if a in input_names]\n",
    "    except Exception as e:\n",
    "        print(f\"Error processing authors: {e}\")\n",
    "        return []"
   ]
  },
  {
   "cell_type": "code",
   "execution_count": null,
   "id": "db19e6ad",
   "metadata": {},
   "outputs": [],
   "source": [
    "papers_df['valid_authors'] = papers_df['Authors'].apply(filter_authors)\n",
    "# Debug print to see how many valid authors each paper has\n",
    "print(papers_df[['Title', 'valid_authors']].head())\n",
    "papers_df = papers_df[papers_df['valid_authors'].apply(len) >= 2]"
   ]
  },
  {
   "cell_type": "code",
   "execution_count": null,
   "id": "37c8a159",
   "metadata": {},
   "outputs": [],
   "source": [
    "# Build graph\n",
    "G = nx.Graph()\n",
    "G.add_nodes_from(input_names)"
   ]
  },
  {
   "cell_type": "code",
   "execution_count": null,
   "id": "6fe9479a",
   "metadata": {},
   "outputs": [],
   "source": [
    "for _, row in papers_df.iterrows():\n",
    "    for a1, a2 in combinations(row['valid_authors'], 2):\n",
    "        if G.has_edge(a1, a2):\n",
    "            G[a1][a2]['weight'] += 1\n",
    "        else:\n",
    "            G.add_edge(a1, a2, weight=1)"
   ]
  },
  {
   "cell_type": "code",
   "execution_count": null,
   "id": "d558a36e",
   "metadata": {},
   "outputs": [],
   "source": [
    "# Network properties\n",
    "print(\"=== Network Properties ===\")\n",
    "print(f\"Total Nodes (in input list): {G.number_of_nodes()}\")\n",
    "print(f\"Total Edges: {G.number_of_edges()}\")\n",
    "print(f\"Average Degree: {np.mean([deg for _, deg in G.degree()]):.2f}\")\n",
    "print(f\"Network Density: {nx.density(G):.4f}\")\n",
    "print(f\"Number of Connected Components: {nx.number_connected_components(G)}\")\n",
    "print(f\"Average Clustering Coefficient: {nx.average_clustering(G):.4f}\")"
   ]
  },
  {
   "cell_type": "code",
   "execution_count": null,
   "id": "861cae28",
   "metadata": {},
   "outputs": [],
   "source": [
    "# Figure 1: Degree Distribution\n",
    "degrees = [deg for node, deg in G.degree()]\n",
    "plt.figure(figsize=(8, 6))\n",
    "plt.hist(degrees, bins=50, color='skyblue', edgecolor='black')\n",
    "plt.title(\"Figure 1: Degree Distribution of the Collaboration Network\")\n",
    "plt.xlabel(\"Degree\")\n",
    "plt.ylabel(\"Frequency\")\n",
    "plt.grid(True)\n",
    "plt.tight_layout()\n",
    "plt.savefig(\"figure1_degree_distribution.png\")\n",
    "plt.close()"
   ]
  },
  {
   "cell_type": "code",
   "execution_count": null,
   "id": "26bf4588",
   "metadata": {},
   "outputs": [],
   "source": [
    "# Figure 2: Giant Component\n",
    "giant_component = max(nx.connected_components(G), key=len)\n",
    "G_giant = G.subgraph(giant_component)"
   ]
  },
  {
   "cell_type": "code",
   "execution_count": null,
   "id": "1ed30b6e",
   "metadata": {},
   "outputs": [],
   "source": [
    "print(\"\\n=== Giant Component Properties ===\")\n",
    "print(f\"Nodes in Giant Component: {G_giant.number_of_nodes()}\")\n",
    "print(f\"Edges in Giant Component: {G_giant.number_of_edges()}\")\n",
    "if nx.is_connected(G_giant):\n",
    "    print(f\"Diameter: {nx.diameter(G_giant)}\")\n",
    "    print(f\"Average Shortest Path Length: {nx.average_shortest_path_length(G_giant):.2f}\")\n",
    "else:\n",
    "    print(\"Giant component is not fully connected (unexpected).\")"
   ]
  },
  {
   "cell_type": "code",
   "execution_count": null,
   "id": "8f22e671",
   "metadata": {},
   "outputs": [],
   "source": [
    "plt.figure(figsize=(12, 10))\n",
    "pos = nx.spring_layout(G_giant, seed=42)\n",
    "nx.draw(G_giant, pos, node_size=20, edge_color='gray', node_color='skyblue', with_labels=False)\n",
    "plt.title(f\"Figure 2: Giant Component ({G_giant.number_of_nodes()} nodes, {G_giant.number_of_edges()} edges)\")\n",
    "plt.tight_layout()\n",
    "plt.savefig(\"figure2_giant_component.png\")\n",
    "plt.close()"
   ]
  },
  {
   "cell_type": "code",
   "execution_count": null,
   "id": "e5ccae2e",
   "metadata": {},
   "outputs": [],
   "source": [
    "# Figure 3: Largest Clique\n",
    "cliques = list(nx.find_cliques(G))\n",
    "largest_clique = max(cliques, key=len)\n",
    "G_clique = G.subgraph(largest_clique)"
   ]
  },
  {
   "cell_type": "code",
   "execution_count": null,
   "id": "a03fea88",
   "metadata": {},
   "outputs": [],
   "source": [
    "plt.figure(figsize=(8, 6))\n",
    "pos = nx.circular_layout(G_clique)\n",
    "nx.draw(G_clique, pos, with_labels=True, node_color='orange', edge_color='black', node_size=300, font_size=8)\n",
    "plt.title(f\"Figure 3: Largest Clique in the Network (n={len(largest_clique)})\")\n",
    "plt.tight_layout()\n",
    "plt.savefig(\"figure3_largest_clique.png\")\n",
    "plt.close()"
   ]
  },
  {
   "cell_type": "code",
   "execution_count": null,
   "id": "41a223f8",
   "metadata": {},
   "outputs": [],
   "source": [
    "# Figure 4: Degree Centrality vs Degree\n",
    "degree_centrality = nx.degree_centrality(G)\n",
    "degrees_dict = dict(G.degree())\n",
    "x = list(degrees_dict.values())\n",
    "y = [degree_centrality[node] for node in degrees_dict]"
   ]
  },
  {
   "cell_type": "code",
   "execution_count": null,
   "id": "34427172",
   "metadata": {},
   "outputs": [],
   "source": [
    "plt.figure(figsize=(8, 6))\n",
    "plt.scatter(x, y, color='green', alpha=0.6)\n",
    "plt.title(\"Figure 4: Degree Centrality vs Degree\")\n",
    "plt.xlabel(\"Degree\")\n",
    "plt.ylabel(\"Degree Centrality\")\n",
    "plt.grid(True)\n",
    "plt.tight_layout()\n",
    "plt.savefig(\"figure4_degree_vs_centrality.png\")\n",
    "plt.close()"
   ]
  },
  {
   "cell_type": "code",
   "execution_count": null,
   "id": "13538432",
   "metadata": {},
   "outputs": [],
   "source": [
    "# Figure 5: Degree Centrality vs Betweenness Centrality\n",
    "betweenness_centrality = nx.betweenness_centrality(G)\n",
    "x = [degree_centrality[node] for node in G.nodes()]\n",
    "y = [betweenness_centrality[node] for node in G.nodes()]"
   ]
  },
  {
   "cell_type": "code",
   "execution_count": null,
   "id": "6a9da19b",
   "metadata": {},
   "outputs": [],
   "source": [
    "plt.figure(figsize=(8, 6))\n",
    "plt.scatter(x, y, color='purple', alpha=0.6)\n",
    "plt.title(\"Figure 5: Degree Centrality vs Betweenness Centrality\")\n",
    "plt.xlabel(\"Degree Centrality\")\n",
    "plt.ylabel(\"Betweenness Centrality\")\n",
    "plt.grid(True)\n",
    "plt.tight_layout()\n",
    "plt.savefig(\"figure5_degree_vs_betweenness.png\")\n",
    "plt.close()"
   ]
  }
 ],
 "metadata": {
  "jupytext": {
   "cell_metadata_filter": "-all",
   "main_language": "python",
   "notebook_metadata_filter": "-all"
  }
 },
 "nbformat": 4,
 "nbformat_minor": 5
}
